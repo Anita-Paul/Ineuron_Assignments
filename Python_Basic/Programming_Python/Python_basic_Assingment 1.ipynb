{
 "cells": [
  {
   "cell_type": "code",
   "execution_count": 1,
   "id": "bffc6562",
   "metadata": {},
   "outputs": [
    {
     "ename": "SyntaxError",
     "evalue": "invalid syntax (1535961576.py, line 1)",
     "output_type": "error",
     "traceback": [
      "\u001b[1;36m  Cell \u001b[1;32mIn[1], line 1\u001b[1;36m\u001b[0m\n\u001b[1;33m    1. Write a Python program to print &quot;Hello Python&quot;?\u001b[0m\n\u001b[1;37m       ^\u001b[0m\n\u001b[1;31mSyntaxError\u001b[0m\u001b[1;31m:\u001b[0m invalid syntax\n"
     ]
    }
   ],
   "source": [
    "1. Write a Python program to print &quot;Hello Python&quot;?\n",
    "2. Write a Python program to do arithmetical operations addition and division.?\n",
    "3. Write a Python program to find the area of a triangle?\n",
    "4. Write a Python program to swap two variables?\n",
    "5. Write a Python program to generate a random number?"
   ]
  },
  {
   "cell_type": "code",
   "execution_count": 2,
   "id": "88c48b09",
   "metadata": {},
   "outputs": [
    {
     "name": "stdout",
     "output_type": "stream",
     "text": [
      "Hello Python\n"
     ]
    }
   ],
   "source": [
    "#1\n",
    "print(\"Hello Python\")"
   ]
  },
  {
   "cell_type": "code",
   "execution_count": null,
   "id": "24688f2c",
   "metadata": {},
   "outputs": [],
   "source": []
  },
  {
   "cell_type": "code",
   "execution_count": 3,
   "id": "a854bfe1",
   "metadata": {},
   "outputs": [
    {
     "name": "stdout",
     "output_type": "stream",
     "text": [
      "Sum: 15\n",
      "Division: 5.0\n"
     ]
    }
   ],
   "source": [
    "#2 Addition\n",
    "num1 = 10\n",
    "num2 = 5\n",
    "sum_result = num1 + num2\n",
    "print(\"Sum:\", sum_result)\n",
    "\n",
    "# Division\n",
    "num1 = 20\n",
    "num2 = 4\n",
    "division_result = num1 / num2\n",
    "print(\"Division:\", division_result)"
   ]
  },
  {
   "cell_type": "code",
   "execution_count": 4,
   "id": "985cd222",
   "metadata": {},
   "outputs": [
    {
     "name": "stdout",
     "output_type": "stream",
     "text": [
      "Enter the base of the triangle: 3\n",
      "Enter the height of the triangle: 4\n",
      "The area of the triangle is: 6.0\n"
     ]
    }
   ],
   "source": [
    "#3\n",
    "# Input the base and height\n",
    "base = float(input(\"Enter the base of the triangle: \"))\n",
    "height = float(input(\"Enter the height of the triangle: \"))\n",
    "\n",
    "# Calculate the area\n",
    "area = 0.5 * base * height\n",
    "\n",
    "# Print the result\n",
    "print(\"The area of the triangle is:\", area)"
   ]
  },
  {
   "cell_type": "code",
   "execution_count": 5,
   "id": "fe9c4a28",
   "metadata": {},
   "outputs": [
    {
     "name": "stdout",
     "output_type": "stream",
     "text": [
      "After swapping, a = 10\n",
      "After swapping, b = 5\n"
     ]
    }
   ],
   "source": [
    "#4\n",
    "# Input two variables\n",
    "a = 5\n",
    "b = 10\n",
    "\n",
    "# Swap the variables\n",
    "a, b = b, a\n",
    "\n",
    "# Print the swapped values\n",
    "print(\"After swapping, a =\", a)\n",
    "print(\"After swapping, b =\", b)"
   ]
  },
  {
   "cell_type": "code",
   "execution_count": 6,
   "id": "b6e5e631",
   "metadata": {},
   "outputs": [
    {
     "name": "stdout",
     "output_type": "stream",
     "text": [
      "Random number: 48\n"
     ]
    }
   ],
   "source": [
    "#5\n",
    "import random\n",
    "\n",
    "# Define the range\n",
    "lower_limit = 1\n",
    "upper_limit = 100\n",
    "\n",
    "# Generate a random number within the range\n",
    "random_number = random.randint(lower_limit, upper_limit)\n",
    "\n",
    "# Print the random number\n",
    "print(\"Random number:\", random_number)"
   ]
  },
  {
   "cell_type": "code",
   "execution_count": null,
   "id": "a1a9c419",
   "metadata": {},
   "outputs": [],
   "source": []
  }
 ],
 "metadata": {
  "kernelspec": {
   "display_name": "Python 3 (ipykernel)",
   "language": "python",
   "name": "python3"
  },
  "language_info": {
   "codemirror_mode": {
    "name": "ipython",
    "version": 3
   },
   "file_extension": ".py",
   "mimetype": "text/x-python",
   "name": "python",
   "nbconvert_exporter": "python",
   "pygments_lexer": "ipython3",
   "version": "3.11.3"
  }
 },
 "nbformat": 4,
 "nbformat_minor": 5
}
