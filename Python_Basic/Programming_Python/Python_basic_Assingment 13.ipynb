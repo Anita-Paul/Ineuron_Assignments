{
 "cells": [
  {
   "cell_type": "markdown",
   "id": "d243eeb9",
   "metadata": {},
   "source": [
    "Question 1:\n",
    "Write a program that calculates and prints the value according to the given formula:\n",
    "Q = Square root of [(2 * C * D)/H]\n",
    "Following are the fixed values of C and H:\n",
    "C is 50. H is 30.\n",
    "D is the variable whose values should be input to your program in a comma-separated\n",
    "sequence.\n",
    "Example\n",
    "Let us assume the following comma separated input sequence is given to the program:\n",
    "100,150,180\n",
    "The output of the program should be:\n",
    "18,22,24"
   ]
  },
  {
   "cell_type": "code",
   "execution_count": null,
   "id": "7e4d32e3",
   "metadata": {},
   "outputs": [],
   "source": [
    "import math\n",
    "\n",
    "C, H = 50, 30\n",
    "\n",
    "def calculate_q(D):\n",
    "    Q = int(math.sqrt((2 * C * D) / H))\n",
    "    return Q\n",
    "\n",
    "input_sequence = input(\"Enter comma-separated values for D: \")\n",
    "D_values = [int(d) for d in input_sequence.split(\",\")]\n",
    "result = [calculate_q(D) for D in D_values]\n",
    "\n",
    "print(\",\".join(map(str, result))"
   ]
  },
  {
   "cell_type": "markdown",
   "id": "35da2c59",
   "metadata": {},
   "source": [
    "Question 2:\n",
    "Write a program which takes 2 digits, X,Y as input and generates a 2-dimensional array. The\n",
    "element value in the i-th row and j-th column of the array should be i*j.\n",
    "Note: i=0,1.., X-1; j=0,1,¡Y-1.\n",
    "Example\n",
    "Suppose the following inputs are given to the program:\n",
    "3,5\n",
    "Then, the output of the program should be:\n",
    "[[0, 0, 0, 0, 0], [0, 1, 2, 3, 4], [0, 2, 4, 6, 8]]"
   ]
  },
  {
   "cell_type": "code",
   "execution_count": 2,
   "id": "214bd6a8",
   "metadata": {},
   "outputs": [
    {
     "name": "stdout",
     "output_type": "stream",
     "text": [
      "Enter two digits (X, Y): 8,9\n",
      "[0, 0, 0, 0, 0, 0, 0, 0, 0]\n",
      "[0, 1, 2, 3, 4, 5, 6, 7, 8]\n",
      "[0, 2, 4, 6, 8, 10, 12, 14, 16]\n",
      "[0, 3, 6, 9, 12, 15, 18, 21, 24]\n",
      "[0, 4, 8, 12, 16, 20, 24, 28, 32]\n",
      "[0, 5, 10, 15, 20, 25, 30, 35, 40]\n",
      "[0, 6, 12, 18, 24, 30, 36, 42, 48]\n",
      "[0, 7, 14, 21, 28, 35, 42, 49, 56]\n"
     ]
    }
   ],
   "source": [
    "def generate_2d_array(X, Y):\n",
    "    result = [[i * j for j in range(Y)] for i in range(X)]\n",
    "    return result\n",
    "\n",
    "X, Y = map(int, input(\"Enter two digits (X, Y): \").split(\",\"))\n",
    "result = generate_2d_array(X, Y)\n",
    "\n",
    "for row in result:\n",
    "    print(row)"
   ]
  },
  {
   "cell_type": "markdown",
   "id": "db195ec4",
   "metadata": {},
   "source": [
    "Question 3:\n",
    "Write a program that accepts a comma separated sequence of words as input and prints the\n",
    "words in a comma-separated sequence after sorting them alphabetically.\n",
    "Suppose the following input is supplied to the program:\n",
    "without,hello,bag,world\n",
    "Then, the output should be:\n",
    "bag,hello,without,world"
   ]
  },
  {
   "cell_type": "code",
   "execution_count": 3,
   "id": "73f159e6",
   "metadata": {},
   "outputs": [
    {
     "name": "stdout",
     "output_type": "stream",
     "text": [
      "Enter comma-separated words: fgf, jhjg,jkn\n",
      " jhjg,fgf,jkn\n"
     ]
    }
   ],
   "source": [
    "input_words = input(\"Enter comma-separated words: \")\n",
    "words = input_words.split(\",\")\n",
    "sorted_words = sorted(words)\n",
    "result = \",\".join(sorted_words)\n",
    "\n",
    "print(result)"
   ]
  },
  {
   "cell_type": "markdown",
   "id": "bf3a8a95",
   "metadata": {},
   "source": [
    "Question 4:\n",
    "Write a program that accepts a sequence of whitespace separated words as input and prints\n",
    "the words after removing all duplicate words and sorting them alphanumerically.\n",
    "Suppose the following input is supplied to the program:\n",
    "hello world and practice makes perfect and hello world again\n",
    "Then, the output should be:\n",
    "again and hello makes perfect practice world"
   ]
  },
  {
   "cell_type": "code",
   "execution_count": 4,
   "id": "84141cec",
   "metadata": {},
   "outputs": [
    {
     "name": "stdout",
     "output_type": "stream",
     "text": [
      "Enter a sentence: hjhjgyfg\n",
      "hjhjgyfg\n"
     ]
    }
   ],
   "source": [
    "input_sentence = input(\"Enter a sentence: \")\n",
    "words = input_sentence.split()\n",
    "unique_words = list(set(words))\n",
    "sorted_unique_words = sorted(unique_words)\n",
    "result = \" \".join(sorted_unique_words)\n",
    "\n",
    "print(result)"
   ]
  },
  {
   "cell_type": "markdown",
   "id": "1ddc32c4",
   "metadata": {},
   "source": [
    "Question 5:\n",
    "Write a program that accepts a sentence and calculate the number of letters and digits.\n",
    "Suppose the following input is supplied to the program:\n",
    "hello world! 123\n",
    "Then, the output should be:\n",
    "LETTERS 10\n",
    "\n",
    "DIGITS 3"
   ]
  },
  {
   "cell_type": "code",
   "execution_count": 5,
   "id": "b01f8f66",
   "metadata": {},
   "outputs": [
    {
     "name": "stdout",
     "output_type": "stream",
     "text": [
      "Enter a sentence: letters\n",
      "LETTERS 7\n",
      "DIGITS 0\n"
     ]
    }
   ],
   "source": [
    "input_sentence = input(\"Enter a sentence: \")\n",
    "letters = 0\n",
    "digits = 0\n",
    "\n",
    "for char in input_sentence:\n",
    "    if char.isalpha():\n",
    "        letters += 1\n",
    "    elif char.isdigit():\n",
    "        digits += 1\n",
    "\n",
    "print(\"LETTERS\", letters)\n",
    "print(\"DIGITS\", digits)"
   ]
  },
  {
   "cell_type": "markdown",
   "id": "80aed181",
   "metadata": {},
   "source": [
    "Question 6:\n",
    "A website requires the users to input username and password to register. Write a program to\n",
    "check the validity of password input by users.\n",
    "Following are the criteria for checking the password:\n",
    "1. At least 1 letter between [a-z]\n",
    "2. At least 1 number between [0-9]\n",
    "1. At least 1 letter between [A-Z]\n",
    "3. At least 1 character from [$#@]\n",
    "4. Minimum length of transaction password: 6\n",
    "5. Maximum length of transaction password: 12\n",
    "Your program should accept a sequence of comma separated passwords and will check them\n",
    "according to the above criteria. Passwords that match the criteria are to be printed, each\n",
    "separated by a comma.\n",
    "Example\n",
    "If the following passwords are given as input to the program:\n",
    "ABd1234@1,a F1#,2w3E*,2We3345\n",
    "Then, the output of the program should be:\n",
    "ABd1234@1"
   ]
  },
  {
   "cell_type": "code",
   "execution_count": 6,
   "id": "ce6d0cb6",
   "metadata": {},
   "outputs": [
    {
     "name": "stdout",
     "output_type": "stream",
     "text": [
      "Enter comma-separated passwords: jyggj,hguy,bbihjgbi\n",
      "\n"
     ]
    }
   ],
   "source": [
    "import re\n",
    "\n",
    "def is_valid_password(password):\n",
    "    if len(password) < 6 or len(password) > 12:\n",
    "        return False\n",
    "    if not re.search(\"[a-z]\", password):\n",
    "        return False\n",
    "    if not re.search(\"[0-9]\", password):\n",
    "        return False\n",
    "    if not re.search(\"[A-Z]\", password):\n",
    "        return False\n",
    "    if not re.search(\"[$#@]\", password):\n",
    "        return False\n",
    "    return True\n",
    "\n",
    "input_passwords = input(\"Enter comma-separated passwords: \")\n",
    "passwords = input_passwords.split(\",\")\n",
    "valid_passwords = [password for password in passwords if is_valid_password(password)]\n",
    "result = \",\".join(valid_passwords)\n",
    "\n",
    "print(result)"
   ]
  },
  {
   "cell_type": "code",
   "execution_count": null,
   "id": "1b9e975d",
   "metadata": {},
   "outputs": [],
   "source": []
  }
 ],
 "metadata": {
  "kernelspec": {
   "display_name": "Python 3 (ipykernel)",
   "language": "python",
   "name": "python3"
  },
  "language_info": {
   "codemirror_mode": {
    "name": "ipython",
    "version": 3
   },
   "file_extension": ".py",
   "mimetype": "text/x-python",
   "name": "python",
   "nbconvert_exporter": "python",
   "pygments_lexer": "ipython3",
   "version": "3.11.3"
  }
 },
 "nbformat": 4,
 "nbformat_minor": 5
}
