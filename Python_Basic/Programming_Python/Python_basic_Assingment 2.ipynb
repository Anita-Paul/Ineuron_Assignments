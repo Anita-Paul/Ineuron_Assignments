{
 "cells": [
  {
   "cell_type": "markdown",
   "id": "21f10171",
   "metadata": {},
   "source": [
    "1. Write a Python program to convert kilometers to miles?\n",
    "2. Write a Python program to convert Celsius to Fahrenheit?\n",
    "3. Write a Python program to display calendar?\n",
    "4. Write a Python program to solve quadratic equation?\n",
    "5. Write a Python program to swap two variables without temp variable?"
   ]
  },
  {
   "cell_type": "code",
   "execution_count": 1,
   "id": "26e04d1f",
   "metadata": {},
   "outputs": [
    {
     "name": "stdout",
     "output_type": "stream",
     "text": [
      "Enter distance in kilometers: 4\n",
      "4.0 kilometers is equal to 2.485484 miles\n"
     ]
    }
   ],
   "source": [
    "#1\n",
    "# Input the distance in kilometers\n",
    "kilometers = float(input(\"Enter distance in kilometers: \"))\n",
    "\n",
    "# Conversion factor\n",
    "conv_factor = 0.621371\n",
    "\n",
    "# Calculate miles\n",
    "miles = kilometers * conv_factor\n",
    "print(f\"{kilometers} kilometers is equal to {miles} miles\")"
   ]
  },
  {
   "cell_type": "code",
   "execution_count": 2,
   "id": "524da79e",
   "metadata": {},
   "outputs": [
    {
     "name": "stdout",
     "output_type": "stream",
     "text": [
      "Enter temperature in Celsius: 5\n",
      "5.0 Celsius is equal to 41.0 Fahrenheit\n"
     ]
    }
   ],
   "source": [
    "#2\n",
    "# Input temperature in Celsius\n",
    "celsius = float(input(\"Enter temperature in Celsius: \"))\n",
    "\n",
    "# Convert to Fahrenheit\n",
    "fahrenheit = (celsius * 9/5) + 32\n",
    "\n",
    "# Print the result\n",
    "print(f\"{celsius} Celsius is equal to {fahrenheit} Fahrenheit\")"
   ]
  },
  {
   "cell_type": "code",
   "execution_count": 4,
   "id": "9efd5135",
   "metadata": {},
   "outputs": [
    {
     "name": "stdout",
     "output_type": "stream",
     "text": [
      "Enter year (e.g., 2023): 2023\n",
      "Enter month (1-12): 9\n",
      "   September 2023\n",
      "Mo Tu We Th Fr Sa Su\n",
      "             1  2  3\n",
      " 4  5  6  7  8  9 10\n",
      "11 12 13 14 15 16 17\n",
      "18 19 20 21 22 23 24\n",
      "25 26 27 28 29 30\n",
      "\n"
     ]
    }
   ],
   "source": [
    "#3\n",
    "import calendar\n",
    "\n",
    "# Input month and year\n",
    "year = int(input(\"Enter year (e.g., 2023): \"))\n",
    "month = int(input(\"Enter month (1-12): \"))\n",
    "\n",
    "# Display the calendar\n",
    "cal = calendar.month(year, month)\n",
    "print(cal)"
   ]
  },
  {
   "cell_type": "code",
   "execution_count": 5,
   "id": "76487481",
   "metadata": {},
   "outputs": [
    {
     "name": "stdout",
     "output_type": "stream",
     "text": [
      "Enter the coefficient a: 4\n",
      "Enter the coefficient b: 5\n",
      "Enter the coefficient c: 6\n",
      "The solutions are (-0.625-1.0532687216470449j) and (-0.625+1.0532687216470449j)\n"
     ]
    }
   ],
   "source": [
    "#4\n",
    "import cmath\n",
    "\n",
    "# Input coefficients\n",
    "a = float(input(\"Enter the coefficient a: \"))\n",
    "b = float(input(\"Enter the coefficient b: \"))\n",
    "c = float(input(\"Enter the coefficient c: \"))\n",
    "\n",
    "# Calculate the discriminant\n",
    "d = (b ** 2) - (4 * a * c)\n",
    "\n",
    "# Find two solutions\n",
    "sol1 = (-b - cmath.sqrt(d)) / (2 * a)\n",
    "sol2 = (-b + cmath.sqrt(d)) / (2 * a)\n",
    "\n",
    "# Print the solutions\n",
    "print(f\"The solutions are {sol1} and {sol2}\")"
   ]
  },
  {
   "cell_type": "code",
   "execution_count": 6,
   "id": "83e70575",
   "metadata": {},
   "outputs": [
    {
     "name": "stdout",
     "output_type": "stream",
     "text": [
      "After swapping, a = 10\n",
      "After swapping, b = 5\n"
     ]
    }
   ],
   "source": [
    "#5\n",
    "# Input two variables\n",
    "a = 5\n",
    "b = 10\n",
    "\n",
    "# Swap the variables without a temporary variable\n",
    "a, b = b, a\n",
    "\n",
    "# Print the swapped values\n",
    "print(\"After swapping, a =\", a)\n",
    "print(\"After swapping, b =\", b)"
   ]
  },
  {
   "cell_type": "code",
   "execution_count": null,
   "id": "c914a1b9",
   "metadata": {},
   "outputs": [],
   "source": []
  }
 ],
 "metadata": {
  "kernelspec": {
   "display_name": "Python 3 (ipykernel)",
   "language": "python",
   "name": "python3"
  },
  "language_info": {
   "codemirror_mode": {
    "name": "ipython",
    "version": 3
   },
   "file_extension": ".py",
   "mimetype": "text/x-python",
   "name": "python",
   "nbconvert_exporter": "python",
   "pygments_lexer": "ipython3",
   "version": "3.11.3"
  }
 },
 "nbformat": 4,
 "nbformat_minor": 5
}
