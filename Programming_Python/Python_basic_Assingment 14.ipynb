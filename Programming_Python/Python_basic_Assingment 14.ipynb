{
 "cells": [
  {
   "cell_type": "markdown",
   "id": "6952e6e2",
   "metadata": {},
   "source": [
    "Question 1:\n",
    "Define a class with a generator which can iterate the numbers, which are divisible by\n",
    "7, between a given range 0 and n."
   ]
  },
  {
   "cell_type": "code",
   "execution_count": 1,
   "id": "efdb5f7d",
   "metadata": {},
   "outputs": [
    {
     "name": "stdout",
     "output_type": "stream",
     "text": [
      "Enter the value of n: 6\n",
      "0\n"
     ]
    }
   ],
   "source": [
    "class DivisibleBySeven:\n",
    "    def __init__(self, n):\n",
    "        self.n = n\n",
    "\n",
    "    def generate_divisible_by_seven(self):\n",
    "        for i in range(0, self.n + 1):\n",
    "            if i % 7 == 0:\n",
    "                yield i\n",
    "\n",
    "n = int(input(\"Enter the value of n: \"))\n",
    "divisible_by_seven = DivisibleBySeven(n)\n",
    "for num in divisible_by_seven.generate_divisible_by_seven():\n",
    "    print(num)"
   ]
  },
  {
   "cell_type": "markdown",
   "id": "0ac2e74a",
   "metadata": {},
   "source": [
    "Question 2:\n",
    "Write a program to compute the frequency of the words from the input. The output\n",
    "should output after sorting the key alphanumerically.\n",
    "Suppose the following input is supplied to the program:\n",
    "New to Python or choosing between Python 2 and Python 3? Read Python 2 or\n",
    "Python 3.\n",
    "Then, the output should be:\n",
    "2:2\n",
    "3.:1\n",
    "3?:1\n",
    "New:1\n",
    "Python:5\n",
    "Read:1\n",
    "and:1\n",
    "between:1\n",
    "choosing:1\n",
    "or:2\n",
    "to:1"
   ]
  },
  {
   "cell_type": "code",
   "execution_count": 2,
   "id": "475b4628",
   "metadata": {},
   "outputs": [
    {
     "name": "stdout",
     "output_type": "stream",
     "text": [
      "Enter a text: tree\n",
      "tree:1\n"
     ]
    }
   ],
   "source": [
    "input_text = input(\"Enter a text: \")\n",
    "word_count = {}\n",
    "words = input_text.split()\n",
    "\n",
    "for word in words:\n",
    "    word = word.rstrip('?:!.,')\n",
    "    word_count[word] = word_count.get(word, 0) + 1\n",
    "\n",
    "sorted_word_count = sorted(word_count.items())\n",
    "\n",
    "for word, count in sorted_word_count:\n",
    "    print(f\"{word}:{count}\")"
   ]
  },
  {
   "cell_type": "markdown",
   "id": "757ad7e0",
   "metadata": {},
   "source": [
    "Question 3:\n",
    "\n",
    "Define a class Person and its two child classes: Male and Female. All classes have a\n",
    "method &quot;getGender&quot; which can print &quot;Male&quot; for Male class and &quot;Female&quot; for Female\n",
    "class."
   ]
  },
  {
   "cell_type": "code",
   "execution_count": 3,
   "id": "88e08008",
   "metadata": {},
   "outputs": [
    {
     "name": "stdout",
     "output_type": "stream",
     "text": [
      "Unknown\n",
      "Male\n",
      "Female\n"
     ]
    }
   ],
   "source": [
    "class Person:\n",
    "    def getGender(self):\n",
    "        return \"Unknown\"\n",
    "\n",
    "class Male(Person):\n",
    "    def getGender(self):\n",
    "        return \"Male\"\n",
    "\n",
    "class Female(Person):\n",
    "    def getGender(self):\n",
    "        return \"Female\"\n",
    "\n",
    "person = Person()\n",
    "male = Male()\n",
    "female = Female()\n",
    "\n",
    "print(person.getGender())\n",
    "print(male.getGender())\n",
    "print(female.getGender())"
   ]
  },
  {
   "cell_type": "markdown",
   "id": "6588b55a",
   "metadata": {},
   "source": [
    "Question 4:\n",
    "Please write a program to generate all sentences where subject is in [&quot;I&quot;, &quot;You&quot;] and\n",
    "verb is in [&quot;Play&quot;, &quot;Love&quot;] and the object is in [&quot;Hockey&quot;,&quot;Football&quot;]."
   ]
  },
  {
   "cell_type": "code",
   "execution_count": 4,
   "id": "827ee73d",
   "metadata": {},
   "outputs": [
    {
     "name": "stdout",
     "output_type": "stream",
     "text": [
      "I Play Hockey\n",
      "I Play Football\n",
      "I Love Hockey\n",
      "I Love Football\n",
      "You Play Hockey\n",
      "You Play Football\n",
      "You Love Hockey\n",
      "You Love Football\n"
     ]
    }
   ],
   "source": [
    "subjects = [\"I\", \"You\"]\n",
    "verbs = [\"Play\", \"Love\"]\n",
    "objects = [\"Hockey\", \"Football\"]\n",
    "\n",
    "sentences = [f\"{subject} {verb} {obj}\" for subject in subjects for verb in verbs for obj in objects]\n",
    "\n",
    "for sentence in sentences:\n",
    "    print(sentence)"
   ]
  },
  {
   "cell_type": "markdown",
   "id": "4d3159ff",
   "metadata": {},
   "source": [
    "Question 5:\n",
    "Please write a program to compress and decompress the string &quot;hello world!hello\n",
    "world!hello world!hello world!&quot;."
   ]
  },
  {
   "cell_type": "code",
   "execution_count": 5,
   "id": "b410e199",
   "metadata": {},
   "outputs": [
    {
     "name": "stdout",
     "output_type": "stream",
     "text": [
      "Original text: hello world!hello world!hello world!hello world!\n"
     ]
    },
    {
     "ename": "UnicodeDecodeError",
     "evalue": "'utf-8' codec can't decode byte 0x9c in position 1: invalid start byte",
     "output_type": "error",
     "traceback": [
      "\u001b[1;31m---------------------------------------------------------------------------\u001b[0m",
      "\u001b[1;31mUnicodeDecodeError\u001b[0m                        Traceback (most recent call last)",
      "Cell \u001b[1;32mIn[5], line 8\u001b[0m\n\u001b[0;32m      5\u001b[0m decompressed_text \u001b[38;5;241m=\u001b[39m zlib\u001b[38;5;241m.\u001b[39mdecompress(compressed_text)\n\u001b[0;32m      7\u001b[0m \u001b[38;5;28mprint\u001b[39m(\u001b[38;5;124m\"\u001b[39m\u001b[38;5;124mOriginal text:\u001b[39m\u001b[38;5;124m\"\u001b[39m, text)\n\u001b[1;32m----> 8\u001b[0m \u001b[38;5;28mprint\u001b[39m(\u001b[38;5;124m\"\u001b[39m\u001b[38;5;124mCompressed text:\u001b[39m\u001b[38;5;124m\"\u001b[39m, compressed_text\u001b[38;5;241m.\u001b[39mdecode())\n\u001b[0;32m      9\u001b[0m \u001b[38;5;28mprint\u001b[39m(\u001b[38;5;124m\"\u001b[39m\u001b[38;5;124mDecompressed text:\u001b[39m\u001b[38;5;124m\"\u001b[39m, decompressed_text\u001b[38;5;241m.\u001b[39mdecode())\n",
      "\u001b[1;31mUnicodeDecodeError\u001b[0m: 'utf-8' codec can't decode byte 0x9c in position 1: invalid start byte"
     ]
    }
   ],
   "source": [
    "import zlib\n",
    "\n",
    "text = \"hello world!hello world!hello world!hello world!\"\n",
    "compressed_text = zlib.compress(text.encode())\n",
    "decompressed_text = zlib.decompress(compressed_text)\n",
    "\n",
    "print(\"Original text:\", text)\n",
    "print(\"Compressed text:\", compressed_text.decode())\n",
    "print(\"Decompressed text:\", decompressed_text.decode())"
   ]
  },
  {
   "cell_type": "markdown",
   "id": "2d6025cd",
   "metadata": {},
   "source": [
    "Question 6:\n",
    "Please write a binary search function which searches an item in a sorted list. The\n",
    "function should return the index of element to be searched in the list."
   ]
  },
  {
   "cell_type": "code",
   "execution_count": 6,
   "id": "b8dac283",
   "metadata": {},
   "outputs": [
    {
     "name": "stdout",
     "output_type": "stream",
     "text": [
      "Enter the target value: 678\n",
      "Element not found in the list\n"
     ]
    }
   ],
   "source": [
    "def binary_search(arr, target):\n",
    "    low, high = 0, len(arr) - 1\n",
    "    while low <= high:\n",
    "        mid = (low + high) // 2\n",
    "        if arr[mid] == target:\n",
    "            return mid\n",
    "        elif arr[mid] < target:\n",
    "            low = mid + 1\n",
    "        else:\n",
    "            high = mid - 1\n",
    "    return -1\n",
    "\n",
    "sorted_list = [1, 3, 5, 7, 9, 11, 13, 15]\n",
    "target = int(input(\"Enter the target value: \"))\n",
    "index = binary_search(sorted_list, target)\n",
    "if index != -1:\n",
    "    print(f\"Element found at index {index}\")\n",
    "else:\n",
    "    print(\"Element not found in the list\")"
   ]
  },
  {
   "cell_type": "code",
   "execution_count": null,
   "id": "403f49eb",
   "metadata": {},
   "outputs": [],
   "source": []
  }
 ],
 "metadata": {
  "kernelspec": {
   "display_name": "Python 3 (ipykernel)",
   "language": "python",
   "name": "python3"
  },
  "language_info": {
   "codemirror_mode": {
    "name": "ipython",
    "version": 3
   },
   "file_extension": ".py",
   "mimetype": "text/x-python",
   "name": "python",
   "nbconvert_exporter": "python",
   "pygments_lexer": "ipython3",
   "version": "3.11.3"
  }
 },
 "nbformat": 4,
 "nbformat_minor": 5
}
