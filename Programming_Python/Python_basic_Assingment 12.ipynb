{
 "cells": [
  {
   "cell_type": "markdown",
   "id": "a8b5b6c5",
   "metadata": {},
   "source": [
    "1. Write a Python program to Extract Unique values dictionary values?\n",
    "2. Write a Python program to find the sum of all items in a dictionary?\n",
    "3. Write a Python program to Merging two Dictionaries?\n",
    "4. Write a Python program to convert key-values list to flat dictionary?\n",
    "5. Write a Python program to insertion at the beginning in OrderedDict?\n",
    "6. Write a Python program to check order of character in string using OrderedDict()?\n",
    "7. Write a Python program to sort Python Dictionaries by Key or Value?"
   ]
  },
  {
   "cell_type": "code",
   "execution_count": 1,
   "id": "92eddd17",
   "metadata": {},
   "outputs": [
    {
     "name": "stdout",
     "output_type": "stream",
     "text": [
      "Unique values from dictionary values: [1, 2, 3, 4, 5]\n"
     ]
    }
   ],
   "source": [
    "#1\n",
    "def extract_unique_values(input_dict):\n",
    "    unique_values = set(val for values in input_dict.values() for val in values)\n",
    "    return list(unique_values)\n",
    "\n",
    "my_dict = {'A': [1, 2, 3], 'B': [2, 3, 4], 'C': [3, 4, 5]}\n",
    "unique_values = extract_unique_values(my_dict)\n",
    "print(\"Unique values from dictionary values:\", unique_values)"
   ]
  },
  {
   "cell_type": "code",
   "execution_count": 2,
   "id": "43ec5cc3",
   "metadata": {},
   "outputs": [
    {
     "name": "stdout",
     "output_type": "stream",
     "text": [
      "Sum of dictionary items: 60\n"
     ]
    }
   ],
   "source": [
    "#2\n",
    "def sum_of_dict_items(input_dict):\n",
    "    total = sum(input_dict.values())\n",
    "    return total\n",
    "\n",
    "my_dict = {'A': 10, 'B': 20, 'C': 30}\n",
    "result = sum_of_dict_items(my_dict)\n",
    "print(\"Sum of dictionary items:\", result)"
   ]
  },
  {
   "cell_type": "code",
   "execution_count": 3,
   "id": "12400559",
   "metadata": {},
   "outputs": [
    {
     "name": "stdout",
     "output_type": "stream",
     "text": [
      "Merged dictionary: {'A': 10, 'B': 20, 'C': 30, 'D': 40}\n"
     ]
    }
   ],
   "source": [
    "#3\n",
    "def merge_dictionaries(dict1, dict2):\n",
    "    merged_dict = {**dict1, **dict2}\n",
    "    return merged_dict\n",
    "\n",
    "dict1 = {'A': 10, 'B': 20}\n",
    "dict2 = {'C': 30, 'D': 40}\n",
    "result = merge_dictionaries(dict1, dict2)\n",
    "print(\"Merged dictionary:\", result)"
   ]
  },
  {
   "cell_type": "code",
   "execution_count": 4,
   "id": "0f09651a",
   "metadata": {},
   "outputs": [
    {
     "name": "stdout",
     "output_type": "stream",
     "text": [
      "Flat dictionary: {'A': 1, 'B': 2, 'C': 3}\n"
     ]
    }
   ],
   "source": [
    "#4\n",
    "def list_to_dict(key_value_list):\n",
    "    flat_dict = {key_value_list[i]: key_value_list[i + 1] for i in range(0, len(key_value_list), 2)}\n",
    "    return flat_dict\n",
    "\n",
    "key_value_list = ['A', 1, 'B', 2, 'C', 3]\n",
    "result = list_to_dict(key_value_list)\n",
    "print(\"Flat dictionary:\", result)"
   ]
  },
  {
   "cell_type": "code",
   "execution_count": 5,
   "id": "2f153cd8",
   "metadata": {},
   "outputs": [
    {
     "name": "stdout",
     "output_type": "stream",
     "text": [
      "OrderedDict after insertion: OrderedDict([('C', 30), ('A', 10), ('B', 20)])\n"
     ]
    }
   ],
   "source": [
    "#5\n",
    "from collections import OrderedDict\n",
    "\n",
    "def insert_at_beginning(ordered_dict, key, value):\n",
    "    ordered_dict[key] = value\n",
    "    ordered_dict.move_to_end(key, last=False)\n",
    "\n",
    "my_ordered_dict = OrderedDict([('A', 10), ('B', 20)])\n",
    "insert_at_beginning(my_ordered_dict, 'C', 30)\n",
    "print(\"OrderedDict after insertion:\", my_ordered_dict)"
   ]
  },
  {
   "cell_type": "code",
   "execution_count": 6,
   "id": "e5916693",
   "metadata": {},
   "outputs": [
    {
     "name": "stdout",
     "output_type": "stream",
     "text": [
      "The order of 'egr' in 'engineers are awesome' is True\n"
     ]
    }
   ],
   "source": [
    "#6\n",
    "from collections import OrderedDict\n",
    "\n",
    "def check_order_of_characters(input_string, pattern):\n",
    "    char_dict = OrderedDict.fromkeys(pattern)\n",
    "    char_index = 0\n",
    "    for char in input_string:\n",
    "        if char in char_dict:\n",
    "            if char == pattern[char_index]:\n",
    "                char_index += 1\n",
    "            if char_index == len(pattern):\n",
    "                return True\n",
    "    return False\n",
    "\n",
    "text = \"engineers are awesome\"\n",
    "pattern = \"egr\"\n",
    "result = check_order_of_characters(text, pattern)\n",
    "print(f\"The order of '{pattern}' in '{text}' is {result}\")"
   ]
  },
  {
   "cell_type": "code",
   "execution_count": 7,
   "id": "2f73ea19",
   "metadata": {},
   "outputs": [
    {
     "name": "stdout",
     "output_type": "stream",
     "text": [
      "Sorted by key: {'A': 1, 'B': 2, 'C': 3, 'D': 4}\n",
      "Sorted by value: {'A': 1, 'B': 2, 'C': 3, 'D': 4}\n"
     ]
    }
   ],
   "source": [
    "#7\n",
    "my_dict = {'B': 2, 'D': 4, 'A': 1, 'C': 3}\n",
    "sorted_dict_by_key = {key: my_dict[key] for key in sorted(my_dict)}\n",
    "print(\"Sorted by key:\", sorted_dict_by_key)\n",
    "sorted_dict_by_value = {k: v for k, v in sorted(my_dict.items(), key=lambda item: item[1])}\n",
    "print(\"Sorted by value:\", sorted_dict_by_value)"
   ]
  },
  {
   "cell_type": "code",
   "execution_count": null,
   "id": "ca77416a",
   "metadata": {},
   "outputs": [],
   "source": []
  }
 ],
 "metadata": {
  "kernelspec": {
   "display_name": "Python 3 (ipykernel)",
   "language": "python",
   "name": "python3"
  },
  "language_info": {
   "codemirror_mode": {
    "name": "ipython",
    "version": 3
   },
   "file_extension": ".py",
   "mimetype": "text/x-python",
   "name": "python",
   "nbconvert_exporter": "python",
   "pygments_lexer": "ipython3",
   "version": "3.11.3"
  }
 },
 "nbformat": 4,
 "nbformat_minor": 5
}
