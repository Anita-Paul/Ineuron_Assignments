{
 "cells": [
  {
   "cell_type": "markdown",
   "id": "bb3af3df",
   "metadata": {},
   "source": [
    "1. Write a Python program to find words which are greater than given length k?\n",
    "2. Write a Python program for removing i-th character from a string?\n",
    "3. Write a Python program to split and join a string?\n",
    "4. Write a Python to check if a given string is binary string or not?\n",
    "5. Write a Python program to find uncommon words from two Strings?\n",
    "6. Write a Python to find all duplicate characters in string?\n",
    "7. Write a Python Program to check if a string contains any special character?"
   ]
  },
  {
   "cell_type": "code",
   "execution_count": 1,
   "id": "df8aea4a",
   "metadata": {},
   "outputs": [
    {
     "name": "stdout",
     "output_type": "stream",
     "text": [
      "Words longer than 5 characters: ['banana', 'cherry', 'elderberry']\n"
     ]
    }
   ],
   "source": [
    "#1\n",
    "def find_words_longer_than_k(word_list, k):\n",
    "    return [word for word in word_list if len(word) > k]\n",
    "\n",
    "words = [\"apple\", \"banana\", \"cherry\", \"date\", \"elderberry\"]\n",
    "k = 5\n",
    "result = find_words_longer_than_k(words, k)\n",
    "print(f\"Words longer than {k} characters: {result}\")"
   ]
  },
  {
   "cell_type": "code",
   "execution_count": 2,
   "id": "27ab8ee0",
   "metadata": {},
   "outputs": [
    {
     "name": "stdout",
     "output_type": "stream",
     "text": [
      "String with the 3-th character removed: exaple\n"
     ]
    }
   ],
   "source": [
    "#2\n",
    "def remove_ith_character(input_string, i):\n",
    "    if 0 <= i < len(input_string):\n",
    "        return input_string[:i] + input_string[i+1:]\n",
    "    else:\n",
    "        return input_string\n",
    "\n",
    "text = \"example\"\n",
    "i = 3\n",
    "result = remove_ith_character(text, i)\n",
    "print(f\"String with the {i}-th character removed: {result}\")"
   ]
  },
  {
   "cell_type": "code",
   "execution_count": 3,
   "id": "cf77819f",
   "metadata": {},
   "outputs": [
    {
     "name": "stdout",
     "output_type": "stream",
     "text": [
      "Original Text: This is a sample sentence\n",
      "Text after split and join: This-is-a-sample-sentence\n"
     ]
    }
   ],
   "source": [
    "#3\n",
    "text = \"This is a sample sentence\"\n",
    "# Splitting the string by spaces\n",
    "words = text.split()\n",
    "# Joining the words with a hyphen\n",
    "new_text = \"-\".join(words)\n",
    "print(\"Original Text:\", text)\n",
    "print(\"Text after split and join:\", new_text)"
   ]
  },
  {
   "cell_type": "code",
   "execution_count": 4,
   "id": "49610a9b",
   "metadata": {},
   "outputs": [
    {
     "name": "stdout",
     "output_type": "stream",
     "text": [
      "1010101010 is a binary string: True\n",
      "12345 is a binary string: False\n"
     ]
    }
   ],
   "source": [
    "#4\n",
    "def is_binary_string(input_string):\n",
    "    return all(bit in '01' for bit in input_string)\n",
    "\n",
    "string1 = \"1010101010\"\n",
    "string2 = \"12345\"\n",
    "print(f\"{string1} is a binary string: {is_binary_string(string1)}\")\n",
    "print(f\"{string2} is a binary string: {is_binary_string(string2)}\")"
   ]
  },
  {
   "cell_type": "code",
   "execution_count": 5,
   "id": "f9b41ec4",
   "metadata": {},
   "outputs": [
    {
     "name": "stdout",
     "output_type": "stream",
     "text": [
      "Uncommon words: ['fig', 'apple', 'elderberry', 'banana']\n"
     ]
    }
   ],
   "source": [
    "#5\n",
    "def find_uncommon_words(str1, str2):\n",
    "    set1 = set(str1.split())\n",
    "    set2 = set(str2.split())\n",
    "    uncommon = set1.symmetric_difference(set2)\n",
    "    return list(uncommon)\n",
    "\n",
    "text1 = \"apple banana cherry date\"\n",
    "text2 = \"cherry elderberry fig date\"\n",
    "result = find_uncommon_words(text1, text2)\n",
    "print(\"Uncommon words:\", result)"
   ]
  },
  {
   "cell_type": "code",
   "execution_count": 6,
   "id": "875185f8",
   "metadata": {},
   "outputs": [
    {
     "name": "stdout",
     "output_type": "stream",
     "text": [
      "Duplicate characters: ['r', 'g', 'm']\n"
     ]
    }
   ],
   "source": [
    "#6\n",
    "def find_duplicate_characters(input_string):\n",
    "    char_count = {}\n",
    "    duplicates = []\n",
    "    for char in input_string:\n",
    "        if char in char_count:\n",
    "            char_count[char] += 1\n",
    "        else:\n",
    "            char_count[char] = 1\n",
    "    for char, count in char_count.items():\n",
    "        if count > 1:\n",
    "            duplicates.append(char)\n",
    "    return duplicates\n",
    "\n",
    "text = \"programming\"\n",
    "result = find_duplicate_characters(text)\n",
    "print(\"Duplicate characters:\", result)"
   ]
  },
  {
   "cell_type": "code",
   "execution_count": 7,
   "id": "47f87221",
   "metadata": {},
   "outputs": [
    {
     "name": "stdout",
     "output_type": "stream",
     "text": [
      "HelloWorld contains special character: False\n",
      "Hello@World contains special character: True\n"
     ]
    }
   ],
   "source": [
    "#7\n",
    "import re\n",
    "\n",
    "def contains_special_character(input_string):\n",
    "    pattern = r'[!@#$%^&*()_+{}\\[\\]:;<>,.?~]'\n",
    "    return bool(re.search(pattern, input_string))\n",
    "\n",
    "string1 = \"HelloWorld\"\n",
    "string2 = \"Hello@World\"\n",
    "print(f\"{string1} contains special character: {contains_special_character(string1)}\")\n",
    "print(f\"{string2} contains special character: {contains_special_character(string2)}\")"
   ]
  },
  {
   "cell_type": "code",
   "execution_count": null,
   "id": "6b8a8405",
   "metadata": {},
   "outputs": [],
   "source": []
  }
 ],
 "metadata": {
  "kernelspec": {
   "display_name": "Python 3 (ipykernel)",
   "language": "python",
   "name": "python3"
  },
  "language_info": {
   "codemirror_mode": {
    "name": "ipython",
    "version": 3
   },
   "file_extension": ".py",
   "mimetype": "text/x-python",
   "name": "python",
   "nbconvert_exporter": "python",
   "pygments_lexer": "ipython3",
   "version": "3.11.3"
  }
 },
 "nbformat": 4,
 "nbformat_minor": 5
}
