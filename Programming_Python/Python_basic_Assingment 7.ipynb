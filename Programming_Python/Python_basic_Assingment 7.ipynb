{
 "cells": [
  {
   "cell_type": "markdown",
   "id": "d4727f81",
   "metadata": {},
   "source": [
    "1. Write a Python Program to find sum of array?\n",
    "2. Write a Python Program to find largest element in an array?\n",
    "3. Write a Python Program for array rotation?\n",
    "4. Write a Python Program to Split the array and add the first part to the end?\n",
    "5. Write a Python Program to check if given array is Monotonic?"
   ]
  },
  {
   "cell_type": "code",
   "execution_count": 1,
   "id": "85eeaa32",
   "metadata": {},
   "outputs": [
    {
     "name": "stdout",
     "output_type": "stream",
     "text": [
      "The sum of the array is 15\n"
     ]
    }
   ],
   "source": [
    "#1\n",
    "def find_sum(arr):\n",
    "    return sum(arr)\n",
    "\n",
    "arr = [1, 2, 3, 4, 5]\n",
    "total_sum = find_sum(arr)\n",
    "print(f\"The sum of the array is {total_sum}\")\n"
   ]
  },
  {
   "cell_type": "code",
   "execution_count": 2,
   "id": "0f2df215",
   "metadata": {},
   "outputs": [
    {
     "name": "stdout",
     "output_type": "stream",
     "text": [
      "The largest element in the array is 78\n"
     ]
    }
   ],
   "source": [
    "#2\n",
    "def find_largest(arr):\n",
    "    if not arr:\n",
    "        return None\n",
    "    return max(arr)\n",
    "\n",
    "arr = [12, 45, 78, 5, 34]\n",
    "largest = find_largest(arr)\n",
    "print(f\"The largest element in the array is {largest}\")"
   ]
  },
  {
   "cell_type": "code",
   "execution_count": 3,
   "id": "105c1d27",
   "metadata": {},
   "outputs": [
    {
     "name": "stdout",
     "output_type": "stream",
     "text": [
      "Rotated array: [3, 4, 5, 1, 2]\n"
     ]
    }
   ],
   "source": [
    "#3\n",
    "def rotate_array(arr, d):\n",
    "    n = len(arr)\n",
    "    d = d % n  # Ensure d is within the array size\n",
    "    return arr[d:] + arr[:d]\n",
    "\n",
    "arr = [1, 2, 3, 4, 5]\n",
    "d = 2\n",
    "rotated_arr = rotate_array(arr, d)\n",
    "print(f\"Rotated array: {rotated_arr}\")"
   ]
  },
  {
   "cell_type": "code",
   "execution_count": 4,
   "id": "1fd74670",
   "metadata": {},
   "outputs": [
    {
     "name": "stdout",
     "output_type": "stream",
     "text": [
      "Modified array: [3, 4, 5, 1, 2]\n"
     ]
    }
   ],
   "source": [
    "#4\n",
    "def split_and_add(arr, k):\n",
    "    return arr[k:] + arr[:k]\n",
    "\n",
    "arr = [1, 2, 3, 4, 5]\n",
    "k = 2\n",
    "result = split_and_add(arr, k)\n",
    "print(f\"Modified array: {result}\")"
   ]
  },
  {
   "cell_type": "code",
   "execution_count": 5,
   "id": "a60d5bfd",
   "metadata": {},
   "outputs": [
    {
     "name": "stdout",
     "output_type": "stream",
     "text": [
      "Is arr1 monotonic? True\n",
      "Is arr2 monotonic? True\n",
      "Is arr3 monotonic? True\n"
     ]
    }
   ],
   "source": [
    "#5\n",
    "def is_monotonic(arr):\n",
    "    increasing = decreasing = True\n",
    "    for i in range(1, len(arr)):\n",
    "        if arr[i] > arr[i - 1]:\n",
    "            decreasing = False\n",
    "        elif arr[i] < arr[i - 1]:\n",
    "            increasing = False\n",
    "    return increasing or decreasing\n",
    "\n",
    "arr1 = [1, 2, 3, 4, 5]  \n",
    "arr2 = [5, 4, 3, 2, 1]  \n",
    "arr3 = [1, 2, 2, 3]     \n",
    "\n",
    "print(f\"Is arr1 monotonic? {is_monotonic(arr1)}\")\n",
    "print(f\"Is arr2 monotonic? {is_monotonic(arr2)}\")\n",
    "print(f\"Is arr3 monotonic? {is_monotonic(arr3)}\")"
   ]
  },
  {
   "cell_type": "code",
   "execution_count": null,
   "id": "027ea6ab",
   "metadata": {},
   "outputs": [],
   "source": []
  }
 ],
 "metadata": {
  "kernelspec": {
   "display_name": "Python 3 (ipykernel)",
   "language": "python",
   "name": "python3"
  },
  "language_info": {
   "codemirror_mode": {
    "name": "ipython",
    "version": 3
   },
   "file_extension": ".py",
   "mimetype": "text/x-python",
   "name": "python",
   "nbconvert_exporter": "python",
   "pygments_lexer": "ipython3",
   "version": "3.11.3"
  }
 },
 "nbformat": 4,
 "nbformat_minor": 5
}
