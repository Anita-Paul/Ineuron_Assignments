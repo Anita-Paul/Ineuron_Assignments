{
 "cells": [
  {
   "cell_type": "markdown",
   "id": "7d8e2116",
   "metadata": {},
   "source": [
    "1. Write a Python program to find sum of elements in list?\n",
    "2. Write a Python program to Multiply all numbers in the list?\n",
    "3. Write a Python program to find smallest number in a list?\n",
    "4. Write a Python program to find largest number in a list?\n",
    "5. Write a Python program to find second largest number in a list?\n",
    "6. Write a Python program to find N largest elements from a list?\n",
    "7. Write a Python program to print even numbers in a list?\n",
    "8. Write a Python program to print odd numbers in a List?\n",
    "9. Write a Python program to Remove empty List from List?\n",
    "10. Write a Python program to Cloning or Copying a list?\n",
    "11. Write a Python program to Count occurrences of an element in a list?"
   ]
  },
  {
   "cell_type": "code",
   "execution_count": 1,
   "id": "581fc706",
   "metadata": {},
   "outputs": [
    {
     "name": "stdout",
     "output_type": "stream",
     "text": [
      "Sum of elements in the list: 15\n"
     ]
    }
   ],
   "source": [
    "#1\n",
    "def sum_of_elements(numbers):\n",
    "    return sum(numbers)\n",
    "\n",
    "numbers = [1, 2, 3, 4, 5]\n",
    "result = sum_of_elements(numbers)\n",
    "print(\"Sum of elements in the list:\", result)"
   ]
  },
  {
   "cell_type": "code",
   "execution_count": 2,
   "id": "990fd792",
   "metadata": {},
   "outputs": [
    {
     "name": "stdout",
     "output_type": "stream",
     "text": [
      "Product of elements in the list: 120\n"
     ]
    }
   ],
   "source": [
    "#2\n",
    "def multiply_elements(numbers):\n",
    "    result = 1\n",
    "    for num in numbers:\n",
    "        result *= num\n",
    "    return result\n",
    "\n",
    "numbers = [1, 2, 3, 4, 5]\n",
    "result = multiply_elements(numbers)\n",
    "print(\"Product of elements in the list:\", result)"
   ]
  },
  {
   "cell_type": "code",
   "execution_count": 3,
   "id": "3fc9275b",
   "metadata": {},
   "outputs": [
    {
     "name": "stdout",
     "output_type": "stream",
     "text": [
      "Smallest number in the list: 2\n"
     ]
    }
   ],
   "source": [
    "#3\n",
    "def find_smallest(numbers):\n",
    "    return min(numbers)\n",
    "\n",
    "numbers = [7, 3, 9, 2, 6]\n",
    "result = find_smallest(numbers)\n",
    "print(\"Smallest number in the list:\", result)"
   ]
  },
  {
   "cell_type": "code",
   "execution_count": 4,
   "id": "758a7358",
   "metadata": {},
   "outputs": [
    {
     "name": "stdout",
     "output_type": "stream",
     "text": [
      "Largest number in the list: 9\n"
     ]
    }
   ],
   "source": [
    "#4\n",
    "def find_largest(numbers):\n",
    "    return max(numbers)\n",
    "\n",
    "numbers = [7, 3, 9, 2, 6]\n",
    "result = find_largest(numbers)\n",
    "print(\"Largest number in the list:\", result)"
   ]
  },
  {
   "cell_type": "code",
   "execution_count": 5,
   "id": "fcafd120",
   "metadata": {},
   "outputs": [
    {
     "name": "stdout",
     "output_type": "stream",
     "text": [
      "Second largest number in the list: 7\n"
     ]
    }
   ],
   "source": [
    "#5\n",
    "def find_second_largest(numbers):\n",
    "    unique_numbers = list(set(numbers))\n",
    "    unique_numbers.sort()\n",
    "    if len(unique_numbers) < 2:\n",
    "        return \"List has less than two unique numbers\"\n",
    "    return unique_numbers[-2]\n",
    "\n",
    "numbers = [7, 3, 9, 2, 6]\n",
    "result = find_second_largest(numbers)\n",
    "print(\"Second largest number in the list:\", result)"
   ]
  },
  {
   "cell_type": "code",
   "execution_count": 6,
   "id": "ce506376",
   "metadata": {},
   "outputs": [
    {
     "name": "stdout",
     "output_type": "stream",
     "text": [
      "3 largest elements in the list: [6, 7, 9]\n"
     ]
    }
   ],
   "source": [
    "#6\n",
    "def find_n_largest(numbers, n):\n",
    "    numbers.sort()\n",
    "    return numbers[-n:]\n",
    "\n",
    "numbers = [7, 3, 9, 2, 6]\n",
    "n = 3\n",
    "result = find_n_largest(numbers, n)\n",
    "print(f\"{n} largest elements in the list:\", result)"
   ]
  },
  {
   "cell_type": "code",
   "execution_count": 7,
   "id": "699cfaef",
   "metadata": {},
   "outputs": [
    {
     "name": "stdout",
     "output_type": "stream",
     "text": [
      "Even numbers in the list: [2, 4, 6, 8, 10]\n"
     ]
    }
   ],
   "source": [
    "#7\n",
    "def print_even_numbers(numbers):\n",
    "    even_numbers = [num for num in numbers if num % 2 == 0]\n",
    "    return even_numbers\n",
    "\n",
    "numbers = [1, 2, 3, 4, 5, 6, 7, 8, 9, 10]\n",
    "even_numbers = print_even_numbers(numbers)\n",
    "print(\"Even numbers in the list:\", even_numbers)"
   ]
  },
  {
   "cell_type": "code",
   "execution_count": 8,
   "id": "809da5f8",
   "metadata": {},
   "outputs": [
    {
     "name": "stdout",
     "output_type": "stream",
     "text": [
      "Odd numbers in the list: [1, 3, 5, 7, 9]\n"
     ]
    }
   ],
   "source": [
    "#8\n",
    "def print_odd_numbers(numbers):\n",
    "    odd_numbers = [num for num in numbers if num % 2 != 0]\n",
    "    return odd_numbers\n",
    "\n",
    "numbers = [1, 2, 3, 4, 5, 6, 7, 8, 9, 10]\n",
    "odd_numbers = print_odd_numbers(numbers)\n",
    "print(\"Odd numbers in the list:\", odd_numbers)"
   ]
  },
  {
   "cell_type": "code",
   "execution_count": 9,
   "id": "d0d1d688",
   "metadata": {},
   "outputs": [
    {
     "ename": "TypeError",
     "evalue": "object of type 'int' has no len()",
     "output_type": "error",
     "traceback": [
      "\u001b[1;31m---------------------------------------------------------------------------\u001b[0m",
      "\u001b[1;31mTypeError\u001b[0m                                 Traceback (most recent call last)",
      "Cell \u001b[1;32mIn[9], line 6\u001b[0m\n\u001b[0;32m      3\u001b[0m     \u001b[38;5;28;01mreturn\u001b[39;00m [sublist \u001b[38;5;28;01mfor\u001b[39;00m sublist \u001b[38;5;129;01min\u001b[39;00m lst \u001b[38;5;28;01mif\u001b[39;00m \u001b[38;5;28mlen\u001b[39m(sublist) \u001b[38;5;241m>\u001b[39m \u001b[38;5;241m0\u001b[39m]\n\u001b[0;32m      5\u001b[0m my_list \u001b[38;5;241m=\u001b[39m [\u001b[38;5;241m1\u001b[39m, \u001b[38;5;241m2\u001b[39m, [], [\u001b[38;5;241m3\u001b[39m, \u001b[38;5;241m4\u001b[39m], [], [\u001b[38;5;241m5\u001b[39m, \u001b[38;5;241m6\u001b[39m]]\n\u001b[1;32m----> 6\u001b[0m result \u001b[38;5;241m=\u001b[39m remove_empty_lists(my_list)\n\u001b[0;32m      7\u001b[0m \u001b[38;5;28mprint\u001b[39m(\u001b[38;5;124m\"\u001b[39m\u001b[38;5;124mList with empty lists removed:\u001b[39m\u001b[38;5;124m\"\u001b[39m, result)\n",
      "Cell \u001b[1;32mIn[9], line 3\u001b[0m, in \u001b[0;36mremove_empty_lists\u001b[1;34m(lst)\u001b[0m\n\u001b[0;32m      2\u001b[0m \u001b[38;5;28;01mdef\u001b[39;00m \u001b[38;5;21mremove_empty_lists\u001b[39m(lst):\n\u001b[1;32m----> 3\u001b[0m     \u001b[38;5;28;01mreturn\u001b[39;00m [sublist \u001b[38;5;28;01mfor\u001b[39;00m sublist \u001b[38;5;129;01min\u001b[39;00m lst \u001b[38;5;28;01mif\u001b[39;00m \u001b[38;5;28mlen\u001b[39m(sublist) \u001b[38;5;241m>\u001b[39m \u001b[38;5;241m0\u001b[39m]\n",
      "Cell \u001b[1;32mIn[9], line 3\u001b[0m, in \u001b[0;36m<listcomp>\u001b[1;34m(.0)\u001b[0m\n\u001b[0;32m      2\u001b[0m \u001b[38;5;28;01mdef\u001b[39;00m \u001b[38;5;21mremove_empty_lists\u001b[39m(lst):\n\u001b[1;32m----> 3\u001b[0m     \u001b[38;5;28;01mreturn\u001b[39;00m [sublist \u001b[38;5;28;01mfor\u001b[39;00m sublist \u001b[38;5;129;01min\u001b[39;00m lst \u001b[38;5;28;01mif\u001b[39;00m \u001b[38;5;28mlen\u001b[39m(sublist) \u001b[38;5;241m>\u001b[39m \u001b[38;5;241m0\u001b[39m]\n",
      "\u001b[1;31mTypeError\u001b[0m: object of type 'int' has no len()"
     ]
    }
   ],
   "source": [
    "#9\n",
    "def remove_empty_lists(lst):\n",
    "    return [sublist for sublist in lst if len(sublist) > 0]\n",
    "\n",
    "my_list = [1, 2, [], [3, 4], [], [5, 6]]\n",
    "result = remove_empty_lists(my_list)\n",
    "print(\"List with empty lists removed:\", result)"
   ]
  },
  {
   "cell_type": "code",
   "execution_count": 10,
   "id": "45ded648",
   "metadata": {},
   "outputs": [
    {
     "name": "stdout",
     "output_type": "stream",
     "text": [
      "Original List: [1, 2, 3, 4, 5]\n",
      "Cloned List: [1, 2, 3, 4, 5]\n"
     ]
    }
   ],
   "source": [
    "#10\n",
    "original_list = [1, 2, 3, 4, 5]\n",
    "cloned_list = list(original_list)  \n",
    "print(\"Original List:\", original_list)\n",
    "print(\"Cloned List:\", cloned_list)"
   ]
  },
  {
   "cell_type": "code",
   "execution_count": 11,
   "id": "00840f8b",
   "metadata": {},
   "outputs": [
    {
     "name": "stdout",
     "output_type": "stream",
     "text": [
      "2 occurs 4 times in the list\n"
     ]
    }
   ],
   "source": [
    "#11\n",
    "def count_occurrences(numbers, element):\n",
    "    return numbers.count(element)\n",
    "\n",
    "numbers = [1, 2, 3, 2, 4, 2, 5, 2]\n",
    "element = 2\n",
    "count = count_occurrences(numbers, element)\n",
    "print(f\"{element} occurs {count} times in the list\")"
   ]
  },
  {
   "cell_type": "code",
   "execution_count": null,
   "id": "a4098f60",
   "metadata": {},
   "outputs": [],
   "source": []
  }
 ],
 "metadata": {
  "kernelspec": {
   "display_name": "Python 3 (ipykernel)",
   "language": "python",
   "name": "python3"
  },
  "language_info": {
   "codemirror_mode": {
    "name": "ipython",
    "version": 3
   },
   "file_extension": ".py",
   "mimetype": "text/x-python",
   "name": "python",
   "nbconvert_exporter": "python",
   "pygments_lexer": "ipython3",
   "version": "3.11.3"
  }
 },
 "nbformat": 4,
 "nbformat_minor": 5
}
