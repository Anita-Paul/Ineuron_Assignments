{
 "cells": [
  {
   "cell_type": "markdown",
   "id": "e9f96640",
   "metadata": {},
   "source": [
    "1. Write a Python program to check if the given number is a Disarium Number?\n",
    "2. Write a Python program to print all disarium numbers between 1 to 100?\n",
    "3. Write a Python program to check if the given number is Happy Number?\n",
    "4. Write a Python program to print all happy numbers between 1 and 100?\n",
    "5. Write a Python program to determine whether the given number is a Harshad Number?\n",
    "6. Write a Python program to print all pronic numbers between 1 and 100?"
   ]
  },
  {
   "cell_type": "code",
   "execution_count": 1,
   "id": "8a71cdd4",
   "metadata": {},
   "outputs": [
    {
     "name": "stdout",
     "output_type": "stream",
     "text": [
      "89 is a Disarium number\n"
     ]
    }
   ],
   "source": [
    "#1\n",
    "def is_disarium_number(num):\n",
    "    num_str = str(num)\n",
    "    n = len(num_str)\n",
    "    total = sum(int(digit) ** (i + 1) for i, digit in enumerate(num_str))\n",
    "    return total == num\n",
    "\n",
    "number = 89\n",
    "if is_disarium_number(number):\n",
    "    print(f\"{number} is a Disarium number\")\n",
    "else:\n",
    "    print(f\"{number} is not a Disarium number\")"
   ]
  },
  {
   "cell_type": "code",
   "execution_count": 2,
   "id": "50af3a97",
   "metadata": {},
   "outputs": [
    {
     "name": "stdout",
     "output_type": "stream",
     "text": [
      "Disarium numbers between 1 and 100: [1, 2, 3, 4, 5, 6, 7, 8, 9, 89]\n"
     ]
    }
   ],
   "source": [
    "#2\n",
    "def find_disarium_numbers(start, end):\n",
    "    disarium_numbers = []\n",
    "    for num in range(start, end + 1):\n",
    "        if is_disarium_number(num):\n",
    "            disarium_numbers.append(num)\n",
    "    return disarium_numbers\n",
    "\n",
    "disarium_numbers = find_disarium_numbers(1, 100)\n",
    "print(\"Disarium numbers between 1 and 100:\", disarium_numbers)"
   ]
  },
  {
   "cell_type": "code",
   "execution_count": 3,
   "id": "edb0b7b2",
   "metadata": {},
   "outputs": [
    {
     "name": "stdout",
     "output_type": "stream",
     "text": [
      "19 is a Happy number\n"
     ]
    }
   ],
   "source": [
    "#3\n",
    "def is_happy_number(num):\n",
    "    def get_next(number):\n",
    "        total = 0\n",
    "        while number > 0:\n",
    "            digit = number % 10\n",
    "            total += digit ** 2\n",
    "            number //= 10\n",
    "        return total\n",
    "\n",
    "    seen = set()\n",
    "    while num != 1 and num not in seen:\n",
    "        seen.add(num)\n",
    "        num = get_next(num)\n",
    "\n",
    "    return num == 1\n",
    "\n",
    "number = 19\n",
    "if is_happy_number(number):\n",
    "    print(f\"{number} is a Happy number\")\n",
    "else:\n",
    "    print(f\"{number} is not a Happy number\")"
   ]
  },
  {
   "cell_type": "code",
   "execution_count": 4,
   "id": "988143e6",
   "metadata": {},
   "outputs": [
    {
     "name": "stdout",
     "output_type": "stream",
     "text": [
      "Happy numbers between 1 and 100: [1, 7, 10, 13, 19, 23, 28, 31, 32, 44, 49, 68, 70, 79, 82, 86, 91, 94, 97, 100]\n"
     ]
    }
   ],
   "source": [
    "#4\n",
    "def find_happy_numbers(start, end):\n",
    "    happy_numbers = []\n",
    "    for num in range(start, end + 1):\n",
    "        if is_happy_number(num):\n",
    "            happy_numbers.append(num)\n",
    "    return happy_numbers\n",
    "\n",
    "happy_numbers = find_happy_numbers(1, 100)\n",
    "print(\"Happy numbers between 1 and 100:\", happy_numbers)"
   ]
  },
  {
   "cell_type": "code",
   "execution_count": 5,
   "id": "8936b7b3",
   "metadata": {},
   "outputs": [
    {
     "name": "stdout",
     "output_type": "stream",
     "text": [
      "18 is a Harshad number\n"
     ]
    }
   ],
   "source": [
    "#5\n",
    "def is_harshad_number(num):\n",
    "    digit_sum = sum(int(digit) for digit in str(num))\n",
    "    return num % digit_sum == 0\n",
    "\n",
    "number = 18\n",
    "if is_harshad_number(number):\n",
    "    print(f\"{number} is a Harshad number\")\n",
    "else:\n",
    "    print(f\"{number} is not a Harshad number\")"
   ]
  },
  {
   "cell_type": "code",
   "execution_count": 7,
   "id": "78d9f9f6",
   "metadata": {},
   "outputs": [
    {
     "name": "stdout",
     "output_type": "stream",
     "text": [
      "Pronic numbers between 1 and 100: [2, 6, 12, 20, 30, 42, 56, 72, 90]\n"
     ]
    }
   ],
   "source": [
    "def is_pronic_number(num):\n",
    "    i = 0\n",
    "    while i * (i + 1) <= num:\n",
    "        if i * (i + 1) == num:\n",
    "            return True\n",
    "        i += 1\n",
    "    return False\n",
    "\n",
    "def find_pronic_numbers(start, end):\n",
    "    pronic_numbers = []\n",
    "    for num in range(start, end + 1):\n",
    "        if is_pronic_number(num):\n",
    "            pronic_numbers.append(num)\n",
    "    return pronic_numbers\n",
    "\n",
    "# Example usage:\n",
    "pronic_numbers = find_pronic_numbers(1, 100)\n",
    "print(\"Pronic numbers between 1 and 100:\", pronic_numbers)"
   ]
  },
  {
   "cell_type": "code",
   "execution_count": null,
   "id": "e92dc0dc",
   "metadata": {},
   "outputs": [],
   "source": []
  }
 ],
 "metadata": {
  "kernelspec": {
   "display_name": "Python 3 (ipykernel)",
   "language": "python",
   "name": "python3"
  },
  "language_info": {
   "codemirror_mode": {
    "name": "ipython",
    "version": 3
   },
   "file_extension": ".py",
   "mimetype": "text/x-python",
   "name": "python",
   "nbconvert_exporter": "python",
   "pygments_lexer": "ipython3",
   "version": "3.11.3"
  }
 },
 "nbformat": 4,
 "nbformat_minor": 5
}
