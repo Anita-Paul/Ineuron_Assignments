{
 "cells": [
  {
   "cell_type": "code",
   "execution_count": 1,
   "id": "85f4f3c5",
   "metadata": {},
   "outputs": [],
   "source": [
    "import tensorflow as tf\n",
    "from tensorflow import keras\n",
    "import numpy as np"
   ]
  },
  {
   "cell_type": "code",
   "execution_count": 2,
   "id": "112265e5",
   "metadata": {},
   "outputs": [
    {
     "name": "stdout",
     "output_type": "stream",
     "text": [
      "Downloading data from https://www.cs.toronto.edu/~kriz/cifar-10-python.tar.gz\n",
      "170498071/170498071 [==============================] - 140s 1us/step\n"
     ]
    }
   ],
   "source": [
    "# Load CIFAR10 dataset\n",
    "(X_train_full, y_train_full), (X_test, y_test) = keras.datasets.cifar10.load_data()"
   ]
  },
  {
   "cell_type": "code",
   "execution_count": 3,
   "id": "ebcaf75e",
   "metadata": {},
   "outputs": [],
   "source": [
    "# Normalize input features\n",
    "X_train_full = X_train_full.astype(np.float32) / 255.0\n",
    "X_test = X_test.astype(np.float32) / 255.0"
   ]
  },
  {
   "cell_type": "code",
   "execution_count": 4,
   "id": "b727a36f",
   "metadata": {},
   "outputs": [],
   "source": [
    "# Define DNN architecture\n",
    "def build_dnn_with_bn():\n",
    "    model = keras.models.Sequential()\n",
    "    model.add(keras.layers.Flatten(input_shape=[32, 32, 3]))\n",
    "    for _ in range(20):\n",
    "        model.add(keras.layers.Dense(100, activation=\"elu\", kernel_initializer=\"he_normal\"))\n",
    "        model.add(keras.layers.BatchNormalization())\n",
    "    model.add(keras.layers.Dense(10, activation=\"softmax\"))\n",
    "    return model"
   ]
  },
  {
   "cell_type": "code",
   "execution_count": 5,
   "id": "a91b9c8a",
   "metadata": {},
   "outputs": [],
   "source": [
    "# Define callbacks for early stopping and learning rate scheduling\n",
    "early_stopping_cb = keras.callbacks.EarlyStopping(patience=10, restore_best_weights=True)\n",
    "lr_scheduler = keras.callbacks.ReduceLROnPlateau(factor=0.5, patience=5)"
   ]
  },
  {
   "cell_type": "code",
   "execution_count": 6,
   "id": "cc322559",
   "metadata": {},
   "outputs": [],
   "source": [
    "# Build and compile the DNN with Batch Normalization\n",
    "dnn_model_bn = build_dnn_with_bn()\n",
    "dnn_model_bn.compile(loss=\"sparse_categorical_crossentropy\", optimizer=\"nadam\", metrics=[\"accuracy\"])"
   ]
  },
  {
   "cell_type": "code",
   "execution_count": 7,
   "id": "97bd2ed1",
   "metadata": {},
   "outputs": [
    {
     "name": "stdout",
     "output_type": "stream",
     "text": [
      "Epoch 1/100\n",
      "1407/1407 [==============================] - 84s 29ms/step - loss: 1.9128 - accuracy: 0.3098 - val_loss: 2.2212 - val_accuracy: 0.2402 - lr: 0.0010\n",
      "Epoch 2/100\n",
      "1407/1407 [==============================] - 40s 28ms/step - loss: 1.7407 - accuracy: 0.3764 - val_loss: 1.7742 - val_accuracy: 0.3550 - lr: 0.0010\n",
      "Epoch 3/100\n",
      "1407/1407 [==============================] - 38s 27ms/step - loss: 1.6934 - accuracy: 0.3935 - val_loss: 1.8438 - val_accuracy: 0.3308 - lr: 0.0010\n",
      "Epoch 4/100\n",
      "1407/1407 [==============================] - 40s 28ms/step - loss: 1.6619 - accuracy: 0.4070 - val_loss: 2.0798 - val_accuracy: 0.2848 - lr: 0.0010\n",
      "Epoch 5/100\n",
      "1407/1407 [==============================] - 39s 28ms/step - loss: 1.6239 - accuracy: 0.4222 - val_loss: 1.6279 - val_accuracy: 0.4332 - lr: 0.0010\n",
      "Epoch 6/100\n",
      "1407/1407 [==============================] - 38s 27ms/step - loss: 1.5977 - accuracy: 0.4316 - val_loss: 1.7739 - val_accuracy: 0.3634 - lr: 0.0010\n",
      "Epoch 7/100\n",
      "1407/1407 [==============================] - 40s 29ms/step - loss: 1.5680 - accuracy: 0.4441 - val_loss: 1.8096 - val_accuracy: 0.3542 - lr: 0.0010\n",
      "Epoch 8/100\n",
      "1407/1407 [==============================] - 40s 29ms/step - loss: 1.5349 - accuracy: 0.4564 - val_loss: 1.7110 - val_accuracy: 0.4160 - lr: 0.0010\n",
      "Epoch 9/100\n",
      "1407/1407 [==============================] - 40s 29ms/step - loss: 1.5140 - accuracy: 0.4622 - val_loss: 1.6833 - val_accuracy: 0.4002 - lr: 0.0010\n",
      "Epoch 10/100\n",
      "1407/1407 [==============================] - 40s 28ms/step - loss: 1.4923 - accuracy: 0.4703 - val_loss: 3.6442 - val_accuracy: 0.1308 - lr: 0.0010\n",
      "Epoch 11/100\n",
      "1407/1407 [==============================] - 41s 29ms/step - loss: 1.4144 - accuracy: 0.4992 - val_loss: 1.4156 - val_accuracy: 0.4922 - lr: 5.0000e-04\n",
      "Epoch 12/100\n",
      "1407/1407 [==============================] - 39s 28ms/step - loss: 1.3821 - accuracy: 0.5101 - val_loss: 1.3786 - val_accuracy: 0.5182 - lr: 5.0000e-04\n",
      "Epoch 13/100\n",
      "1407/1407 [==============================] - 41s 29ms/step - loss: 1.3682 - accuracy: 0.5150 - val_loss: 1.4947 - val_accuracy: 0.4754 - lr: 5.0000e-04\n",
      "Epoch 14/100\n",
      "1407/1407 [==============================] - 42s 30ms/step - loss: 1.3537 - accuracy: 0.5218 - val_loss: 1.4016 - val_accuracy: 0.5094 - lr: 5.0000e-04\n",
      "Epoch 15/100\n",
      "1407/1407 [==============================] - 39s 28ms/step - loss: 1.3397 - accuracy: 0.5260 - val_loss: 1.4145 - val_accuracy: 0.5080 - lr: 5.0000e-04\n",
      "Epoch 16/100\n",
      "1407/1407 [==============================] - 38s 27ms/step - loss: 1.3211 - accuracy: 0.5302 - val_loss: 1.4881 - val_accuracy: 0.4770 - lr: 5.0000e-04\n",
      "Epoch 17/100\n",
      "1407/1407 [==============================] - 40s 28ms/step - loss: 1.3130 - accuracy: 0.5342 - val_loss: 1.4090 - val_accuracy: 0.5056 - lr: 5.0000e-04\n",
      "Epoch 18/100\n",
      "1407/1407 [==============================] - 39s 28ms/step - loss: 1.2603 - accuracy: 0.5542 - val_loss: 1.3522 - val_accuracy: 0.5186 - lr: 2.5000e-04\n",
      "Epoch 19/100\n",
      "1407/1407 [==============================] - 39s 28ms/step - loss: 1.2495 - accuracy: 0.5586 - val_loss: 1.3555 - val_accuracy: 0.5218 - lr: 2.5000e-04\n",
      "Epoch 20/100\n",
      "1407/1407 [==============================] - 40s 28ms/step - loss: 1.2286 - accuracy: 0.5651 - val_loss: 1.3607 - val_accuracy: 0.5210 - lr: 2.5000e-04\n",
      "Epoch 21/100\n",
      "1407/1407 [==============================] - 41s 29ms/step - loss: 1.2237 - accuracy: 0.5692 - val_loss: 1.3437 - val_accuracy: 0.5280 - lr: 2.5000e-04\n",
      "Epoch 22/100\n",
      "1407/1407 [==============================] - 38s 27ms/step - loss: 1.2158 - accuracy: 0.5700 - val_loss: 1.3866 - val_accuracy: 0.5248 - lr: 2.5000e-04\n",
      "Epoch 23/100\n",
      "1407/1407 [==============================] - 38s 27ms/step - loss: 1.2090 - accuracy: 0.5718 - val_loss: 1.3813 - val_accuracy: 0.5186 - lr: 2.5000e-04\n",
      "Epoch 24/100\n",
      "1407/1407 [==============================] - 27s 19ms/step - loss: 1.1995 - accuracy: 0.5750 - val_loss: 1.3421 - val_accuracy: 0.5344 - lr: 2.5000e-04\n",
      "Epoch 25/100\n",
      "1407/1407 [==============================] - 24s 17ms/step - loss: 1.1990 - accuracy: 0.5777 - val_loss: 1.3725 - val_accuracy: 0.5276 - lr: 2.5000e-04\n",
      "Epoch 26/100\n",
      "1407/1407 [==============================] - 25s 18ms/step - loss: 1.1887 - accuracy: 0.5799 - val_loss: 1.3979 - val_accuracy: 0.5198 - lr: 2.5000e-04\n",
      "Epoch 27/100\n",
      "1407/1407 [==============================] - 25s 18ms/step - loss: 1.1737 - accuracy: 0.5809 - val_loss: 1.3639 - val_accuracy: 0.5332 - lr: 2.5000e-04\n",
      "Epoch 28/100\n",
      "1407/1407 [==============================] - 25s 18ms/step - loss: 1.1676 - accuracy: 0.5858 - val_loss: 1.3665 - val_accuracy: 0.5296 - lr: 2.5000e-04\n",
      "Epoch 29/100\n",
      "1407/1407 [==============================] - 25s 18ms/step - loss: 1.1633 - accuracy: 0.5879 - val_loss: 1.3800 - val_accuracy: 0.5400 - lr: 2.5000e-04\n",
      "Epoch 30/100\n",
      "1407/1407 [==============================] - 25s 18ms/step - loss: 1.1287 - accuracy: 0.5993 - val_loss: 1.3687 - val_accuracy: 0.5404 - lr: 1.2500e-04\n",
      "Epoch 31/100\n",
      "1407/1407 [==============================] - 25s 18ms/step - loss: 1.1201 - accuracy: 0.6014 - val_loss: 1.4095 - val_accuracy: 0.5258 - lr: 1.2500e-04\n",
      "Epoch 32/100\n",
      "1407/1407 [==============================] - 25s 18ms/step - loss: 1.1129 - accuracy: 0.6052 - val_loss: 1.3550 - val_accuracy: 0.5408 - lr: 1.2500e-04\n",
      "Epoch 33/100\n",
      "1407/1407 [==============================] - 25s 18ms/step - loss: 1.1102 - accuracy: 0.6070 - val_loss: 1.3399 - val_accuracy: 0.5394 - lr: 1.2500e-04\n",
      "Epoch 34/100\n",
      "1407/1407 [==============================] - 25s 18ms/step - loss: 1.1074 - accuracy: 0.6072 - val_loss: 1.3723 - val_accuracy: 0.5392 - lr: 1.2500e-04\n",
      "Epoch 35/100\n",
      "1407/1407 [==============================] - 25s 17ms/step - loss: 1.0976 - accuracy: 0.6134 - val_loss: 1.3713 - val_accuracy: 0.5344 - lr: 1.2500e-04\n",
      "Epoch 36/100\n",
      "1407/1407 [==============================] - 25s 17ms/step - loss: 1.0979 - accuracy: 0.6126 - val_loss: 1.3744 - val_accuracy: 0.5378 - lr: 1.2500e-04\n",
      "Epoch 37/100\n",
      "1407/1407 [==============================] - 25s 18ms/step - loss: 1.0937 - accuracy: 0.6124 - val_loss: 1.3639 - val_accuracy: 0.5368 - lr: 1.2500e-04\n",
      "Epoch 38/100\n",
      "1407/1407 [==============================] - 26s 18ms/step - loss: 1.0929 - accuracy: 0.6157 - val_loss: 1.3707 - val_accuracy: 0.5326 - lr: 1.2500e-04\n",
      "Epoch 39/100\n",
      "1407/1407 [==============================] - 26s 18ms/step - loss: 1.0672 - accuracy: 0.6218 - val_loss: 1.3491 - val_accuracy: 0.5420 - lr: 6.2500e-05\n",
      "Epoch 40/100\n",
      "1407/1407 [==============================] - 26s 18ms/step - loss: 1.0664 - accuracy: 0.6229 - val_loss: 1.3541 - val_accuracy: 0.5428 - lr: 6.2500e-05\n",
      "Epoch 41/100\n",
      "1407/1407 [==============================] - 26s 18ms/step - loss: 1.0647 - accuracy: 0.6250 - val_loss: 1.3506 - val_accuracy: 0.5420 - lr: 6.2500e-05\n",
      "Epoch 42/100\n",
      "1407/1407 [==============================] - 26s 18ms/step - loss: 1.0630 - accuracy: 0.6242 - val_loss: 1.3672 - val_accuracy: 0.5398 - lr: 6.2500e-05\n",
      "Epoch 43/100\n",
      "1407/1407 [==============================] - 26s 18ms/step - loss: 1.0600 - accuracy: 0.6222 - val_loss: 1.3540 - val_accuracy: 0.5422 - lr: 6.2500e-05\n"
     ]
    }
   ],
   "source": [
    "# Train the model\n",
    "history_bn = dnn_model_bn.fit(X_train_full, y_train_full, epochs=100,validation_split=0.1, callbacks=[early_stopping_cb, lr_scheduler])\n"
   ]
  },
  {
   "cell_type": "code",
   "execution_count": 9,
   "id": "dac7b9d6",
   "metadata": {},
   "outputs": [
    {
     "name": "stdout",
     "output_type": "stream",
     "text": [
      "313/313 [==============================] - 1s 4ms/step - loss: 1.3643 - accuracy: 0.5356\n",
      "Test accuracy with SELU: 0.5356000065803528\n"
     ]
    }
   ],
   "source": [
    "# Evaluate the model\n",
    "test_loss, test_accuracy = dnn_model_bn.evaluate(X_test, y_test)\n",
    "print(\"Test accuracy with SELU:\", test_accuracy)"
   ]
  },
  {
   "cell_type": "code",
   "execution_count": 10,
   "id": "787ae581",
   "metadata": {},
   "outputs": [],
   "source": [
    "# Define DNN architecture with Alpha Dropout\n",
    "def build_dnn_with_alpha_dropout():\n",
    "    model = keras.models.Sequential()\n",
    "    model.add(keras.layers.Flatten(input_shape=[32, 32, 3]))\n",
    "    for _ in range(20):\n",
    "        model.add(keras.layers.Dense(100, activation=\"elu\", kernel_initializer=\"he_normal\"))\n",
    "        model.add(keras.layers.AlphaDropout(rate=0.5))\n",
    "    model.add(keras.layers.Dense(10, activation=\"softmax\"))\n",
    "    return model"
   ]
  },
  {
   "cell_type": "code",
   "execution_count": 11,
   "id": "b5fbb6e0",
   "metadata": {},
   "outputs": [],
   "source": [
    "# Build and compile the DNN with Alpha Dropout\n",
    "dnn_model_alpha_dropout = build_dnn_with_alpha_dropout()\n",
    "dnn_model_alpha_dropout.compile(loss=\"sparse_categorical_crossentropy\", optimizer=\"nadam\", metrics=[\"accuracy\"])"
   ]
  },
  {
   "cell_type": "code",
   "execution_count": 12,
   "id": "ce1cfa37",
   "metadata": {},
   "outputs": [
    {
     "name": "stdout",
     "output_type": "stream",
     "text": [
      "Epoch 1/100\n",
      "1407/1407 [==============================] - 28s 14ms/step - loss: 2.5151 - accuracy: 0.1009 - val_loss: 10806.1562 - val_accuracy: 0.0976 - lr: 0.0010\n",
      "Epoch 2/100\n",
      "1407/1407 [==============================] - 18s 13ms/step - loss: 2.3079 - accuracy: 0.1070 - val_loss: 48128.8047 - val_accuracy: 0.0986 - lr: 0.0010\n",
      "Epoch 3/100\n",
      "1407/1407 [==============================] - 19s 13ms/step - loss: 2.2075 - accuracy: 0.1478 - val_loss: 91310.7109 - val_accuracy: 0.1064 - lr: 0.0010\n",
      "Epoch 4/100\n",
      "1407/1407 [==============================] - 19s 13ms/step - loss: 2.1550 - accuracy: 0.1631 - val_loss: 9564.6279 - val_accuracy: 0.1064 - lr: 0.0010\n",
      "Epoch 5/100\n",
      "1407/1407 [==============================] - 19s 13ms/step - loss: 2.1444 - accuracy: 0.1653 - val_loss: 45819.8828 - val_accuracy: 0.1064 - lr: 0.0010\n",
      "Epoch 6/100\n",
      "1407/1407 [==============================] - 20s 14ms/step - loss: 2.1359 - accuracy: 0.1680 - val_loss: 87631.9609 - val_accuracy: 0.0902 - lr: 0.0010\n",
      "Epoch 7/100\n",
      "1407/1407 [==============================] - 20s 14ms/step - loss: 2.1283 - accuracy: 0.1665 - val_loss: 63968.0508 - val_accuracy: 0.1064 - lr: 0.0010\n",
      "Epoch 8/100\n",
      "1407/1407 [==============================] - 21s 15ms/step - loss: 2.1203 - accuracy: 0.1733 - val_loss: 11744.1709 - val_accuracy: 0.0912 - lr: 0.0010\n",
      "Epoch 9/100\n",
      "1407/1407 [==============================] - 19s 14ms/step - loss: 2.1135 - accuracy: 0.1687 - val_loss: 23985.9688 - val_accuracy: 0.1576 - lr: 0.0010\n",
      "Epoch 10/100\n",
      "1407/1407 [==============================] - 18s 13ms/step - loss: 2.0995 - accuracy: 0.1734 - val_loss: 22471.2539 - val_accuracy: 0.1540 - lr: 5.0000e-04\n",
      "Epoch 11/100\n",
      "1407/1407 [==============================] - 19s 13ms/step - loss: 2.0952 - accuracy: 0.1784 - val_loss: 33504.3438 - val_accuracy: 0.1778 - lr: 5.0000e-04\n",
      "Epoch 12/100\n",
      "1407/1407 [==============================] - 20s 14ms/step - loss: 2.0908 - accuracy: 0.1766 - val_loss: 18906.4648 - val_accuracy: 0.1802 - lr: 5.0000e-04\n",
      "Epoch 13/100\n",
      "1407/1407 [==============================] - 22s 16ms/step - loss: 2.0955 - accuracy: 0.1764 - val_loss: 19433.9102 - val_accuracy: 0.1718 - lr: 5.0000e-04\n",
      "Epoch 14/100\n",
      "1407/1407 [==============================] - 20s 14ms/step - loss: 2.0890 - accuracy: 0.1782 - val_loss: 23217.4434 - val_accuracy: 0.1718 - lr: 5.0000e-04\n"
     ]
    }
   ],
   "source": [
    "#Train the model\n",
    "history_alpha_dropout = dnn_model_alpha_dropout.fit(X_train_full, y_train_full, epochs=100,validation_split=0.1, callbacks=[early_stopping_cb, lr_scheduler])"
   ]
  },
  {
   "cell_type": "code",
   "execution_count": 13,
   "id": "c488cf83",
   "metadata": {},
   "outputs": [
    {
     "name": "stdout",
     "output_type": "stream",
     "text": [
      "313/313 [==============================] - 1s 3ms/step - loss: 9316.5605 - accuracy: 0.1000\n",
      "Test accuracy with Alpha Dropout: 0.10000000149011612\n"
     ]
    }
   ],
   "source": [
    "# Evaluate the model\n",
    "test_loss, test_accuracy = dnn_model_alpha_dropout.evaluate(X_test, y_test)\n",
    "print(\"Test accuracy with Alpha Dropout:\", test_accuracy)"
   ]
  },
  {
   "cell_type": "code",
   "execution_count": null,
   "id": "a1c7d5db",
   "metadata": {},
   "outputs": [],
   "source": []
  }
 ],
 "metadata": {
  "kernelspec": {
   "display_name": "Python 3 (ipykernel)",
   "language": "python",
   "name": "python3"
  },
  "language_info": {
   "codemirror_mode": {
    "name": "ipython",
    "version": 3
   },
   "file_extension": ".py",
   "mimetype": "text/x-python",
   "name": "python",
   "nbconvert_exporter": "python",
   "pygments_lexer": "ipython3",
   "version": "3.11.3"
  }
 },
 "nbformat": 4,
 "nbformat_minor": 5
}
