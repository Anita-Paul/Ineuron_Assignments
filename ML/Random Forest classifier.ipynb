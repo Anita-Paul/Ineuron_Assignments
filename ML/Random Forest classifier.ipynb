{
 "cells": [
  {
   "cell_type": "code",
   "execution_count": 5,
   "id": "b8ff53df",
   "metadata": {},
   "outputs": [],
   "source": [
    "import numpy as np\n",
    "from sklearn.datasets import make_moons\n",
    "from sklearn.model_selection import train_test_split\n",
    "from sklearn.tree import DecisionTreeClassifier\n",
    "from scipy.stats import mode\n",
    "from sklearn.metrics import accuracy_score"
   ]
  },
  {
   "cell_type": "code",
   "execution_count": null,
   "id": "72c7f21b",
   "metadata": {},
   "outputs": [],
   "source": []
  },
  {
   "cell_type": "code",
   "execution_count": 6,
   "id": "0d82f0ab",
   "metadata": {},
   "outputs": [],
   "source": [
    "# Step a: Create the moons dataset and split into training and test sets\n",
    "X, y = make_moons(n_samples=10000, shuffle=True, noise=0.4, random_state=None)\n",
    "X_train, X_test, y_train, y_test = train_test_split(X, y, test_size=0.2, random_state=42)"
   ]
  },
  {
   "cell_type": "code",
   "execution_count": 7,
   "id": "c9066a6a",
   "metadata": {},
   "outputs": [],
   "source": [
    "n_trees = 1000\n",
    "n_instances_per_subset = 100\n",
    "subsets = []\n",
    "\n",
    "for _ in range(n_trees):\n",
    "    subset_indices = np.random.choice(len(X_train), size=n_instances_per_subset, replace=False)\n",
    "    subsets.append((X_train[subset_indices], y_train[subset_indices]))"
   ]
  },
  {
   "cell_type": "code",
   "execution_count": 9,
   "id": "e92b9841",
   "metadata": {},
   "outputs": [],
   "source": [
    "# Step b: Train one Decision Tree on each subset and evaluate on the test set\n",
    "individual_tree_predictions = []\n",
    "best_max_leaf_nodes = 10  \n",
    "\n",
    "for subset_X, subset_y in subsets:\n",
    "    tree = DecisionTreeClassifier(max_leaf_nodes=best_max_leaf_nodes)\n",
    "    tree.fit(subset_X, subset_y)\n",
    "    individual_tree_predictions.append(tree.predict(X_test))"
   ]
  },
  {
   "cell_type": "code",
   "execution_count": 12,
   "id": "6cc477d3",
   "metadata": {},
   "outputs": [
    {
     "name": "stderr",
     "output_type": "stream",
     "text": [
      "C:\\Users\\Lagartha Lothbroke\\Lothbroke\\AppData\\Local\\Temp\\ipykernel_2568\\823577930.py:4: FutureWarning: Unlike other reduction functions (e.g. `skew`, `kurtosis`), the default behavior of `mode` typically preserves the axis it acts along. In SciPy 1.11.0, this behavior will change: the default value of `keepdims` will become False, the `axis` over which the statistic is taken will be eliminated, and the value None will no longer be accepted. Set `keepdims` to True or False to avoid this warning.\n",
      "  ensemble_predictions = mode(individual_tree_predictions, axis=0).mode[0]\n"
     ]
    }
   ],
   "source": [
    "from scipy.stats import mode\n",
    "\n",
    "# Step c: Create majority-vote predictions\n",
    "ensemble_predictions = mode(individual_tree_predictions, axis=0).mode[0]"
   ]
  },
  {
   "cell_type": "code",
   "execution_count": 13,
   "id": "887b5873",
   "metadata": {},
   "outputs": [
    {
     "name": "stdout",
     "output_type": "stream",
     "text": [
      "Ensemble Accuracy: 0.866\n"
     ]
    }
   ],
   "source": [
    "# Step d: Evaluate the ensemble predictions on the test set\n",
    "ensemble_accuracy = accuracy_score(y_test, ensemble_predictions)\n",
    "print(\"Ensemble Accuracy:\", ensemble_accuracy)"
   ]
  },
  {
   "cell_type": "code",
   "execution_count": null,
   "id": "94e3203f",
   "metadata": {},
   "outputs": [],
   "source": []
  }
 ],
 "metadata": {
  "kernelspec": {
   "display_name": "Python 3 (ipykernel)",
   "language": "python",
   "name": "python3"
  },
  "language_info": {
   "codemirror_mode": {
    "name": "ipython",
    "version": 3
   },
   "file_extension": ".py",
   "mimetype": "text/x-python",
   "name": "python",
   "nbconvert_exporter": "python",
   "pygments_lexer": "ipython3",
   "version": "3.11.3"
  }
 },
 "nbformat": 4,
 "nbformat_minor": 5
}
